{
 "cells": [
  {
   "cell_type": "markdown",
   "id": "29d99b85-c85c-4fb6-b76a-30e8486d99c3",
   "metadata": {},
   "source": [
    "# Data Science Tools and Ecosystem"
   ]
  },
  {
   "cell_type": "markdown",
   "id": "a7b8c965-935f-4390-9f56-aae753fe13aa",
   "metadata": {},
   "source": [
    "In this notebook, Data Science Tools and Ecosystem are summarized from what was learned in the course"
   ]
  },
  {
   "cell_type": "markdown",
   "id": "0f0092c5-210f-4769-b19f-4b369a5815e2",
   "metadata": {},
   "source": [
    "Some of the popular languages that Data Scientists use are:"
   ]
  },
  {
   "cell_type": "markdown",
   "id": "bb98425b-d04c-4ff1-ba27-a85b61f26ba0",
   "metadata": {},
   "source": [
    "Data Scientists Languages\n",
    "1. Python\n",
    "2. Julia\n",
    "3. R"
   ]
  },
  {
   "cell_type": "markdown",
   "id": "01233a77-8a1d-403b-afdf-5815d8435dda",
   "metadata": {},
   "source": [
    "Some of the commonly used libraries used by Data Scientists include:"
   ]
  },
  {
   "cell_type": "markdown",
   "id": "4185007b-7b2c-4810-beb5-17fea038f3c5",
   "metadata": {},
   "source": [
    "Python Libraries\n",
    "1. Scientific Computing Libraries\n",
    "2. Visualization Libraries in Python\n",
    "3. High-Level-Machine Learinging and Deep Learning\n",
    "4. Deep Learning Libraries "
   ]
  },
  {
   "cell_type": "markdown",
   "id": "e3d22f9f-79fd-41d5-9434-f11269ec572d",
   "metadata": {},
   "source": [
    "| Data Science Tools |\n",
    "| ------------------ |\n",
    "| Jupyter Notebook |\n",
    "| JupyterLite |\n",
    "| Anaconda |"
   ]
  },
  {
   "cell_type": "markdown",
   "id": "ec23c7b8-85e1-4c7e-b56b-9b55a21ebdc2",
   "metadata": {},
   "source": [
    "### Below are a few examples of evaluating arithmetic expressions in Python\n"
   ]
  },
  {
   "cell_type": "markdown",
   "id": "3cf8970a-1fca-4e6f-8448-d3546057fc64",
   "metadata": {},
   "source": [
    "2+3\n",
    "5-2\n",
    "6*2"
   ]
  },
  {
   "cell_type": "code",
   "execution_count": null,
   "id": "43bc364e-425d-437c-8701-c28d6a35ea40",
   "metadata": {},
   "outputs": [],
   "source": []
  }
 ],
 "metadata": {
  "kernelspec": {
   "display_name": "Python 3 (ipykernel)",
   "language": "python",
   "name": "python3"
  },
  "language_info": {
   "codemirror_mode": {
    "name": "ipython",
    "version": 3
   },
   "file_extension": ".py",
   "mimetype": "text/x-python",
   "name": "python",
   "nbconvert_exporter": "python",
   "pygments_lexer": "ipython3",
   "version": "3.12.7"
  }
 },
 "nbformat": 4,
 "nbformat_minor": 5
}
